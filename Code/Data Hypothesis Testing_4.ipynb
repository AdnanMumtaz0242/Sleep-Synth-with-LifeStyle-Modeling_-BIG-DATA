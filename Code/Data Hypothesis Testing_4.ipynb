{
 "cells": [
  {
   "cell_type": "markdown",
   "metadata": {},
   "source": [
    "# Team# 02 Project_ File# 04_ Big Data \n",
    "# 02423029_ Suleman Khan\n",
    "# 02323027_ Muhammad Farooq\n",
    "# 02421070_ Adnan Mumtaz "
   ]
  },
  {
   "cell_type": "code",
   "execution_count": 3,
   "metadata": {
    "tags": [
     "remove_cell"
    ]
   },
   "outputs": [],
   "source": [
    "import pandas as pd\n",
    "import numpy as np\n",
    "\n",
    "df= pd.read_csv('all_1.csv', parse_dates=True, )"
   ]
  },
  {
   "cell_type": "markdown",
   "metadata": {},
   "source": [
    "# Hypothesis Testing"
   ]
  },
  {
   "cell_type": "markdown",
   "metadata": {},
   "source": [
    "The observed correlations from the data analysis and visualizations suggest several hypotheses that could be explored through further analysis:\n",
    "\n",
    "1. **Impact of Sleep Disturbances on Quality:** Given the strong negative correlation between sleep disturbances and quality, we can hypothesize that increased sleep disturbances are likely to negatively impact the quality of sleep.\n",
    "\n",
    "1. **Age in Relation to Sleep Duration:** The negative correlation between age and calculated night sleep duration leads to the hypothesis that sleep duration may decrease with age.\n",
    "\n",
    "1. **Relationship Between Sleep Onset Time and Quality:** The moderate negative correlation observed between sleep onset time and quality suggests that a longer time to fall asleep might be associated with poorer sleep quality.\n",
    "\n",
    "1. **Influence of Exercise on Sleep Duration and Quality:** The slight positive correlation between exercise days per week and sleep duration hints at a potential hypothesis that increased physical activity could contribute to longer and possibly better quality sleep.\n",
    "\n",
    "1. **Nap Duration's Effect on Nighttime Sleep Duration:** Although the correlation is weak, we could investigate whether the duration of naps has any effect on the duration of nighttime sleep."
   ]
  },
  {
   "cell_type": "markdown",
   "metadata": {},
   "source": [
    "For each hypothesis, we aim to perform at least two types of hypothesis testing methods provided by the Scipy libray."
   ]
  },
  {
   "cell_type": "markdown",
   "metadata": {},
   "source": [
    "## Hypothesis 1 - Increased sleep disturbances negatively impact the quality of sleep."
   ]
  },
  {
   "cell_type": "markdown",
   "metadata": {},
   "source": [
    "**Null Hypothesis ($H_0$)**: The level of Sleep Disturbances has no impact on Sleep Quality.\n",
    "\n",
    "**Alternative Hypothesis ($H_1$)**: The level of Sleep Disturbances has a negative impact on Sleep Quality."
   ]
  },
  {
   "cell_type": "markdown",
   "metadata": {},
   "source": [
    "### Spearman Correlations Test"
   ]
  },
  {
   "cell_type": "code",
   "execution_count": 4,
   "metadata": {
    "tags": [
     "remove_cell"
    ]
   },
   "outputs": [],
   "source": [
    "sleep_disturbances_mapping = {\n",
    "    \"Never\": 0,\n",
    "    \"Rarely\": 1,\n",
    "    \"Sometimes\": 2,\n",
    "    \"Frequently\": 3,\n",
    "    \"Often\": 4,\n",
    "}\n",
    "\n",
    "df[\"Sleep Disturbances Ordinal\"] = df[\"Sleep Disturbances\"].map(\n",
    "    sleep_disturbances_mapping\n",
    ")\n"
   ]
  },
  {
   "cell_type": "markdown",
   "metadata": {},
   "source": [
    "We will a 1-tail negative *Spearman correlation test* by setting `alternative='less'` to measure the correlation"
   ]
  },
  {
   "cell_type": "code",
   "execution_count": 5,
   "metadata": {},
   "outputs": [
    {
     "name": "stdout",
     "output_type": "stream",
     "text": [
      "Correlation: 0.177\n",
      "P-value: 0.9999516219309827\n"
     ]
    }
   ],
   "source": [
    "import scipy.stats as stats\n",
    "\n",
    "correlation, p_value = stats.spearmanr(df['Sleep Quality'].to_numpy(), df['Sleep Disturbances Ordinal'].to_numpy().astype(float), alternative='less')\n",
    "\n",
    "print(f'Correlation: {correlation:.3f}')\n",
    "print(f'P-value: {p_value}')"
   ]
  },
  {
   "cell_type": "markdown",
   "metadata": {},
   "source": [
    "**With the given results of a Spearman correlation coefficient ($\\rho$) of approximately 0.177 and a p-value of approximately 0.9999516219309827, we can draw the following conclusions about the relationship between sleep disturbances and sleep quality:**\n",
    "\n",
    "- **Strength and Direction of Correlation:** The Spearman correlation coefficient of 0.177 indicates a weak positive correlation between sleep disturbances and sleep quality. This means that as sleep disturbances increase (become more frequent), there is a slight tendency for sleep quality to increase, which is counterintuitive and suggests that the relationship may not be meaningful.\n",
    "\n",
    "- **Statistical Significance:** The p-value is a measure of the probability that the observed correlation occurred by chance if there were no actual relationship in the population. A p-value of 0.9999516219309827 is extremely high, far above the common alpha level of 0.05 used to determine statistical significance. This means that the observed correlation is likely due to random variation in the sample and is not statistically significant.\n",
    "\n",
    "**Conclusion:**\n",
    "Based on the Spearman correlation test, we cannot reject the null hypothesis that there is no correlation between sleep disturbances and sleep quality. The data does not support the alternative hypothesis that sleep disturbances affect sleep quality. This result suggests that, within this dataset, there is no meaningful relationship between the frequency of sleep disturbances and the overall quality of sleep."
   ]
  },
  {
   "cell_type": "markdown",
   "metadata": {},
   "source": [
    "### Chi-squared Test"
   ]
  },
  {
   "cell_type": "markdown",
   "metadata": {},
   "source": [
    "First, construct contigency table between `Sleep Disturbances` and `Sleep Quality`"
   ]
  },
  {
   "cell_type": "code",
   "execution_count": 6,
   "metadata": {},
   "outputs": [
    {
     "data": {
      "text/html": [
       "<div>\n",
       "<style scoped>\n",
       "    .dataframe tbody tr th:only-of-type {\n",
       "        vertical-align: middle;\n",
       "    }\n",
       "\n",
       "    .dataframe tbody tr th {\n",
       "        vertical-align: top;\n",
       "    }\n",
       "\n",
       "    .dataframe thead th {\n",
       "        text-align: right;\n",
       "    }\n",
       "</style>\n",
       "<table border=\"1\" class=\"dataframe\">\n",
       "  <thead>\n",
       "    <tr style=\"text-align: right;\">\n",
       "      <th>Sleep Quality</th>\n",
       "      <th>3.0</th>\n",
       "      <th>4.0</th>\n",
       "      <th>5.0</th>\n",
       "      <th>6.0</th>\n",
       "      <th>7.0</th>\n",
       "      <th>8.0</th>\n",
       "      <th>9.0</th>\n",
       "    </tr>\n",
       "    <tr>\n",
       "      <th>Sleep Disturbances</th>\n",
       "      <th></th>\n",
       "      <th></th>\n",
       "      <th></th>\n",
       "      <th></th>\n",
       "      <th></th>\n",
       "      <th></th>\n",
       "      <th></th>\n",
       "    </tr>\n",
       "  </thead>\n",
       "  <tbody>\n",
       "    <tr>\n",
       "      <th>Frequently</th>\n",
       "      <td>2</td>\n",
       "      <td>2</td>\n",
       "      <td>0</td>\n",
       "      <td>25</td>\n",
       "      <td>26</td>\n",
       "      <td>13</td>\n",
       "      <td>11</td>\n",
       "    </tr>\n",
       "    <tr>\n",
       "      <th>Never</th>\n",
       "      <td>5</td>\n",
       "      <td>6</td>\n",
       "      <td>6</td>\n",
       "      <td>20</td>\n",
       "      <td>10</td>\n",
       "      <td>20</td>\n",
       "      <td>12</td>\n",
       "    </tr>\n",
       "    <tr>\n",
       "      <th>Often</th>\n",
       "      <td>1</td>\n",
       "      <td>0</td>\n",
       "      <td>1</td>\n",
       "      <td>19</td>\n",
       "      <td>11</td>\n",
       "      <td>24</td>\n",
       "      <td>18</td>\n",
       "    </tr>\n",
       "    <tr>\n",
       "      <th>Rarely</th>\n",
       "      <td>17</td>\n",
       "      <td>27</td>\n",
       "      <td>7</td>\n",
       "      <td>19</td>\n",
       "      <td>19</td>\n",
       "      <td>22</td>\n",
       "      <td>14</td>\n",
       "    </tr>\n",
       "    <tr>\n",
       "      <th>Sometimes</th>\n",
       "      <td>16</td>\n",
       "      <td>14</td>\n",
       "      <td>2</td>\n",
       "      <td>22</td>\n",
       "      <td>25</td>\n",
       "      <td>30</td>\n",
       "      <td>16</td>\n",
       "    </tr>\n",
       "  </tbody>\n",
       "</table>\n",
       "</div>"
      ],
      "text/plain": [
       "Sleep Quality       3.0  4.0  5.0  6.0  7.0  8.0  9.0\n",
       "Sleep Disturbances                                   \n",
       "Frequently            2    2    0   25   26   13   11\n",
       "Never                 5    6    6   20   10   20   12\n",
       "Often                 1    0    1   19   11   24   18\n",
       "Rarely               17   27    7   19   19   22   14\n",
       "Sometimes            16   14    2   22   25   30   16"
      ]
     },
     "execution_count": 6,
     "metadata": {},
     "output_type": "execute_result"
    }
   ],
   "source": [
    "contingency_table = pd.crosstab(df['Sleep Disturbances'], df['Sleep Quality'])\n",
    "contingency_table"
   ]
  },
  {
   "cell_type": "markdown",
   "metadata": {},
   "source": [
    "After that, the Chi-squared test could be conducted with `scipy` library"
   ]
  },
  {
   "cell_type": "code",
   "execution_count": 7,
   "metadata": {},
   "outputs": [
    {
     "name": "stdout",
     "output_type": "stream",
     "text": [
      "Chi2 Stat: 86.14103292472487\n",
      "P Value: 6.21340151287131e-09\n",
      "Degrees of Freedom: 24\n"
     ]
    }
   ],
   "source": [
    "from scipy.stats import chi2_contingency\n",
    "\n",
    "# Perform the Chi-squared test\n",
    "chi2_stat, p_val, dof, ex = chi2_contingency(contingency_table)\n",
    "\n",
    "# Print the results\n",
    "print(f\"Chi2 Stat: {chi2_stat}\")\n",
    "print(f\"P Value: {p_val}\")\n",
    "print(f\"Degrees of Freedom: {dof}\")"
   ]
  },
  {
   "cell_type": "markdown",
   "metadata": {},
   "source": [
    "**The results from the Chi-squared test on our data can be interpreted as follows:**\n",
    "\n",
    "**Chi-Squared Statistic (Chi2 Stat):**\n",
    "The value is approximately 86.14, which is notably higher than the critical value for a chi-square distribution with 24 degrees of freedom at a significance level of 0.05. This considerable difference suggests strong evidence to reject the null hypothesis.\n",
    "\n",
    "**P-Value:**\n",
    "The p-value is about 6.21e-09, which is significantly less than the common alpha level of 0.05. This extremely low p-value indicates that the observed association is highly unlikely to have occurred by random chance.\n",
    "\n",
    "**Degrees of Freedom:**\n",
    "The degrees of freedom for this test is 24.\n",
    "\n",
    "**Conclusion:**\n",
    "Given the very low p-value and the high Chi-squared statistic, we can reject the null hypothesis of independence. This means there is a statistically significant association between the variables in our dataset. In other words, the variables being tested appear to be related to each other in our study.\n"
   ]
  },
  {
   "cell_type": "markdown",
   "metadata": {},
   "source": [
    "## Hypothesis 2 - Older people have shorter Night sleep"
   ]
  },
  {
   "cell_type": "markdown",
   "metadata": {},
   "source": [
    "**Null Hypothesis ($H_0$)**: Age group has no impact on Sleep Duration.\n",
    "\n",
    "**Alternative Hypothesis ($H_1$)**: Age group has negative correlation with Sleep Duration"
   ]
  },
  {
   "cell_type": "markdown",
   "metadata": {},
   "source": [
    "### Pearson Correlations Test\n",
    "\n",
    "Since the distribution of Sleep Quality is fairly normal, we'll use the Pearson test."
   ]
  },
  {
   "cell_type": "code",
   "execution_count": 8,
   "metadata": {
    "tags": [
     "remove_cell"
    ]
   },
   "outputs": [],
   "source": [
    "age_mapping = {\n",
    "    \"25-34\": 30,\n",
    "    \"16-24\": 20,\n",
    "    \"35-44\": 40,\n",
    "    \"45-54\": 50,\n",
    "    \"55+\": 60,\n",
    "}\n",
    "\n",
    "df[\"Age Group Ordinal\"] = df[\"Age Group\"].map(age_mapping)"
   ]
  },
  {
   "cell_type": "markdown",
   "metadata": {},
   "source": [
    "We will a 1-tail negative *Pearson correlation test* by setting `alternative='less'` to measure the correlation"
   ]
  },
  {
   "cell_type": "code",
   "execution_count": 9,
   "metadata": {},
   "outputs": [
    {
     "name": "stdout",
     "output_type": "stream",
     "text": [
      "Correlation: -0.044\n",
      "P-value: 0.17660073379867178\n"
     ]
    }
   ],
   "source": [
    "import scipy.stats as stats\n",
    "\n",
    "da = df.dropna(subset=['Age Group Ordinal','Calculated Night Sleep Duration'], axis='index')\n",
    "\n",
    "correlation, p_value = stats.pearsonr(da['Calculated Night Sleep Duration'].to_numpy(), da['Age Group Ordinal'].to_numpy().astype(float), alternative='less')\n",
    "\n",
    "print(f'Correlation: {correlation:.3f}')\n",
    "print(f'P-value: {p_value}')"
   ]
  },
  {
   "cell_type": "markdown",
   "metadata": {},
   "source": [
    "**The results from the Pearson correlation test on our data can be interpreted as follows:**\n",
    "\n",
    "- **Correlation Coefficient:** The value is approximately -0.044, indicating a very weak negative correlation between age group and calculated night sleep duration. This means that as age increases, there is a slight tendency for sleep duration to decrease, but the relationship is very weak.\n",
    "\n",
    "- **P-value:** The p-value is approximately 0.1766, which is greater than the conventional significance level of 0.05. This suggests that we cannot reject the null hypothesis, and there is not enough evidence to support the claim that age group has a significant negative correlation with sleep duration.\n",
    "\n",
    "**Conclusion:**\n",
    "The test does not provide sufficient evidence to support the claim that older age groups tend to have shorter sleep duration. The correlation is very weak and not statistically significant, indicating that age may not be a significant factor influencing sleep duration in this dataset. Other factors not considered in this test may play a more substantial role in determining sleep duration across age groups."
   ]
  },
  {
   "cell_type": "markdown",
   "metadata": {},
   "source": [
    "### Kendall's Tau test"
   ]
  },
  {
   "cell_type": "code",
   "execution_count": 10,
   "metadata": {},
   "outputs": [
    {
     "name": "stdout",
     "output_type": "stream",
     "text": [
      "Correlation: -0.032\n",
      "P-value: 0.20047771303612327\n"
     ]
    }
   ],
   "source": [
    "import scipy.stats as stats\n",
    "\n",
    "correlation, p_value = stats.kendalltau(da['Calculated Night Sleep Duration'].to_numpy(), da['Age Group Ordinal'].to_numpy().astype(float), alternative='less')\n",
    "\n",
    "print(f'Correlation: {correlation:.3f}')\n",
    "print(f'P-value: {p_value}')"
   ]
  },
  {
   "cell_type": "markdown",
   "metadata": {},
   "source": [
    "**The results from the Kendall's Tau correlation test on our data can be interpreted as follows:**\n",
    "\n",
    "- **Correlation Coefficient:**\n",
    "  The value of Kendall’s Tau is -0.032, which indicates a very weak negative correlation between age group and calculated night sleep duration. This means that as the ordinal age group increases (which likely corresponds to increasing actual age), there is a slight tendency for sleep duration to decrease, but the relationship is very weak.\n",
    "\n",
    "- **Statistical Significance:**\n",
    "  The p-value is approximately 0.2005, which is greater than the conventional alpha level of 0.05 used for statistical significance. This indicates that the observed correlation is not statistically significant and is likely to have occurred by chance.\n",
    "\n",
    "**Conclusion:**\n",
    "Based on the Kendall’s Tau test, we cannot reject the null hypothesis that there is no association between age group and sleep duration. The data suggests that there is no statistically significant relationship between the two. As people fall into higher ordinal age groups, there is no meaningful decrease in sleep duration. Given the very weak strength of the correlation and the lack of statistical significance, age alone is not a predictor of sleep duration, and other factors may also play a significant role."
   ]
  },
  {
   "cell_type": "markdown",
   "metadata": {},
   "source": [
    "## Hypothesis 3 - The longer it takes to fall as sleep, the worse Sleep Quality becomes"
   ]
  },
  {
   "cell_type": "markdown",
   "metadata": {},
   "source": [
    "### Spearman Correlation Test"
   ]
  },
  {
   "cell_type": "markdown",
   "metadata": {},
   "source": [
    "**Null Hypothesis ($H_0$)**: The increase of Sleep onset time has no impact on Sleep Quality.\n",
    "\n",
    "**Alternative Hypothesis ($H_1$)**: The increase of Sleep onset time leads to the decline on Sleep Quality.\n"
   ]
  },
  {
   "cell_type": "code",
   "execution_count": 11,
   "metadata": {
    "tags": [
     "remove_cell"
    ]
   },
   "outputs": [],
   "source": [
    "onset_mapping = {\n",
    "    \"<15 Minutes\": 7.5,\n",
    "    \"30-60 Minutes\": 45,\n",
    "    \"15-30 Minutes\": 20,\n",
    "    \">60 Minutes\": 60,\n",
    "}\n",
    "\n",
    "df[\"Sleep Onset Time Ordinal\"] = df[\"Sleep Onset Time\"].map(onset_mapping)\n"
   ]
  },
  {
   "cell_type": "code",
   "execution_count": 12,
   "metadata": {},
   "outputs": [
    {
     "name": "stdout",
     "output_type": "stream",
     "text": [
      "Correlation: 0.034082749220749824\n",
      "P-value: 0.7723304853756148\n"
     ]
    }
   ],
   "source": [
    "import scipy.stats as stats\n",
    "\n",
    "# Perform Spearman correlation test\n",
    "correlation, p_value = stats.spearmanr(df['Sleep Quality'].to_numpy(), df['Sleep Onset Time Ordinal'].to_numpy().astype(float), alternative='less')\n",
    "\n",
    "print(f'Correlation: {correlation}')\n",
    "print(f'P-value: {p_value}')"
   ]
  },
  {
   "cell_type": "markdown",
   "metadata": {},
   "source": [
    "**The results from the Spearman correlation test on our data can be interpreted as follows:**\n",
    "\n",
    "- **Correlation Coefficient:** The value of the Spearman correlation coefficient is approximately 0.034, indicating a very weak positive correlation between sleep onset time and sleep quality. This suggests that longer times to fall asleep are slightly associated with higher sleep quality ratings, but the relationship is very weak and counterintuitive.\n",
    "\n",
    "- **Statistical Significance:** The p-value is approximately 0.7723, which is much greater than the conventional alpha level of 0.05 used for statistical significance. This indicates that the observed correlation is likely due to random chance and is not statistically significant.\n",
    "\n",
    "**Conclusion:**\n",
    "\n",
    "Based on the Spearman correlation test, we cannot reject the null hypothesis ($H_0$) that sleep onset time has no impact on sleep quality. The data does not support the alternative hypothesis ($H_1$) that there is a statistically significant relationship between sleep onset time and sleep quality. In practical terms, this result suggests that sleep onset time may not be a significant factor influencing overall sleep quality in this dataset."
   ]
  },
  {
   "cell_type": "markdown",
   "metadata": {},
   "source": [
    "### Chi-squared Test"
   ]
  },
  {
   "cell_type": "markdown",
   "metadata": {},
   "source": [
    "First, construct contigency table between `Sleep Onset Time` and `Sleep Quality`"
   ]
  },
  {
   "cell_type": "code",
   "execution_count": 13,
   "metadata": {},
   "outputs": [
    {
     "data": {
      "text/html": [
       "<div>\n",
       "<style scoped>\n",
       "    .dataframe tbody tr th:only-of-type {\n",
       "        vertical-align: middle;\n",
       "    }\n",
       "\n",
       "    .dataframe tbody tr th {\n",
       "        vertical-align: top;\n",
       "    }\n",
       "\n",
       "    .dataframe thead th {\n",
       "        text-align: right;\n",
       "    }\n",
       "</style>\n",
       "<table border=\"1\" class=\"dataframe\">\n",
       "  <thead>\n",
       "    <tr style=\"text-align: right;\">\n",
       "      <th>Sleep Quality</th>\n",
       "      <th>3.0</th>\n",
       "      <th>4.0</th>\n",
       "      <th>5.0</th>\n",
       "      <th>6.0</th>\n",
       "      <th>7.0</th>\n",
       "      <th>8.0</th>\n",
       "      <th>9.0</th>\n",
       "    </tr>\n",
       "    <tr>\n",
       "      <th>Sleep Onset Time</th>\n",
       "      <th></th>\n",
       "      <th></th>\n",
       "      <th></th>\n",
       "      <th></th>\n",
       "      <th></th>\n",
       "      <th></th>\n",
       "      <th></th>\n",
       "    </tr>\n",
       "  </thead>\n",
       "  <tbody>\n",
       "    <tr>\n",
       "      <th>15-30 Minutes</th>\n",
       "      <td>22</td>\n",
       "      <td>27</td>\n",
       "      <td>8</td>\n",
       "      <td>46</td>\n",
       "      <td>50</td>\n",
       "      <td>46</td>\n",
       "      <td>37</td>\n",
       "    </tr>\n",
       "    <tr>\n",
       "      <th>30-60 Minutes</th>\n",
       "      <td>12</td>\n",
       "      <td>4</td>\n",
       "      <td>1</td>\n",
       "      <td>18</td>\n",
       "      <td>24</td>\n",
       "      <td>29</td>\n",
       "      <td>15</td>\n",
       "    </tr>\n",
       "    <tr>\n",
       "      <th>&lt;15 Minutes</th>\n",
       "      <td>5</td>\n",
       "      <td>16</td>\n",
       "      <td>6</td>\n",
       "      <td>33</td>\n",
       "      <td>10</td>\n",
       "      <td>27</td>\n",
       "      <td>18</td>\n",
       "    </tr>\n",
       "    <tr>\n",
       "      <th>&gt;60 Minutes</th>\n",
       "      <td>2</td>\n",
       "      <td>2</td>\n",
       "      <td>1</td>\n",
       "      <td>8</td>\n",
       "      <td>7</td>\n",
       "      <td>7</td>\n",
       "      <td>1</td>\n",
       "    </tr>\n",
       "  </tbody>\n",
       "</table>\n",
       "</div>"
      ],
      "text/plain": [
       "Sleep Quality     3.0  4.0  5.0  6.0  7.0  8.0  9.0\n",
       "Sleep Onset Time                                   \n",
       "15-30 Minutes      22   27    8   46   50   46   37\n",
       "30-60 Minutes      12    4    1   18   24   29   15\n",
       "<15 Minutes         5   16    6   33   10   27   18\n",
       ">60 Minutes         2    2    1    8    7    7    1"
      ]
     },
     "execution_count": 13,
     "metadata": {},
     "output_type": "execute_result"
    }
   ],
   "source": [
    "contingency_table = pd.crosstab(df['Sleep Onset Time'], df['Sleep Quality'])\n",
    "contingency_table"
   ]
  },
  {
   "cell_type": "markdown",
   "metadata": {},
   "source": [
    "After that, the Chi-squared test could be conducted with `scipy` library"
   ]
  },
  {
   "cell_type": "code",
   "execution_count": 14,
   "metadata": {},
   "outputs": [
    {
     "name": "stdout",
     "output_type": "stream",
     "text": [
      "Chi2 Stat: 31.234526501533338\n",
      "Degrees of Freedom: 18\n",
      "P Value: 0.027039609724060935\n"
     ]
    }
   ],
   "source": [
    "from scipy.stats import chi2_contingency\n",
    "\n",
    "# Perform the Chi-squared test\n",
    "chi2_stat, p_val, dof, ex = chi2_contingency(contingency_table)\n",
    "\n",
    "# Print the results\n",
    "print(f\"Chi2 Stat: {chi2_stat}\")\n",
    "print(f\"Degrees of Freedom: {dof}\")\n",
    "print(f\"P Value: {p_val}\")"
   ]
  },
  {
   "cell_type": "markdown",
   "metadata": {},
   "source": [
    "**The results from the Chi-squared test related to Hypothesis 3, which concerns the relationship between sleep onset time and sleep quality, can be interpreted as follows:**\n",
    "\n",
    "1. **Chi-Squared Statistic (Chi2 Stat):**\n",
    "   The calculated Chi-square statistic is approximately 31.23. Since this value is greater than the critical value for a chi-square distribution with 18 degrees of freedom at the 0.05 significance level, we can conclude that there is a statistically significant association between \"Sleep Onset Time\" and \"Sleep Quality\". This means that the two variables are not independent, and their relationship is not likely to be due to random chance.\n",
    "\n",
    "2. **P-Value:**\n",
    "   The p-value is approximately 0.0270, which is lower than the common alpha level of 0.05. This indicates that there is a statistically significant association between sleep onset time and sleep quality, although the strength of this association is not as strong as it might be for a much lower p-value.\n",
    "\n",
    "**Conclusion:**\n",
    "Given the p-value of 0.0270, which is less than the alpha level of 0.05, we can reject the null hypothesis. This suggests that there is a statistically significant association between sleep onset time and sleep quality in our dataset. The relationship, as indicated by the Chi-squared statistic, is present but not extremely strong."
   ]
  },
  {
   "cell_type": "markdown",
   "metadata": {},
   "source": [
    "## Hypothesis 4a - Weekly exercise frequency improves sleep quality"
   ]
  },
  {
   "cell_type": "markdown",
   "metadata": {},
   "source": [
    "### Spearman Correlation Test"
   ]
  },
  {
   "cell_type": "markdown",
   "metadata": {},
   "source": [
    "**Null Hypothesis ($H_0$)**: The increase of Weekly exercise frequency has no impact on Sleep Quality.\n",
    "\n",
    "**Alternative Hypothesis ($H_1$)**: The increase of Weekly exercise frequency improves on Sleep Quality.\n"
   ]
  },
  {
   "cell_type": "code",
   "execution_count": 15,
   "metadata": {
    "tags": [
     "remove_cell"
    ]
   },
   "outputs": [],
   "source": [
    "exercise_mapping = {\"0 Days\": 0, \"1-2 Days\": 1, \"3-4 Days\": 2, \"5+ Days\": 3}\n",
    "df[\"Exercise Days/Week Ordinal\"] = df[\"Exercise Days/Week\"].map(exercise_mapping)"
   ]
  },
  {
   "cell_type": "markdown",
   "metadata": {},
   "source": [
    "Since we are testing the positive correlation, `alternative='greater'` is used"
   ]
  },
  {
   "cell_type": "code",
   "execution_count": 16,
   "metadata": {},
   "outputs": [
    {
     "name": "stdout",
     "output_type": "stream",
     "text": [
      "Correlation: 0.04418610205195544\n",
      "P-value: 0.1665127520643026\n"
     ]
    }
   ],
   "source": [
    "import scipy.stats as stats\n",
    "\n",
    "# Perform Spearman correlation test\n",
    "correlation, p_value = stats.spearmanr(df['Exercise Days/Week Ordinal'], df['Sleep Quality'], alternative='greater')\n",
    "\n",
    "print(f'Correlation: {correlation}')\n",
    "print(f'P-value: {p_value}')"
   ]
  },
  {
   "cell_type": "markdown",
   "metadata": {},
   "source": [
    "1. **Correlation Coefficient:**\n",
    "   The correlation coefficient of approximately 0.044 indicates a very weak positive relationship between exercise frequency and sleep quality. This suggests that as exercise frequency increases, there is a very slight tendency for sleep quality to increase, but the effect is so small that it might not be meaningful in practical terms.\n",
    "\n",
    "2. **Statistical Significance:**\n",
    "   The p-value of approximately 0.1665 is much higher than the common alpha level of 0.05. A high p-value indicates that the correlation observed in the sample is very likely to have occurred by random chance and is not statistically significant.\n",
    "\n",
    "**Conclusion:**\n",
    "Based on this analysis, there is no evidence to support a significant relationship between exercise frequency and sleep quality in the dataset. The correlation is very weak and not statistically significant. This means that, within the data collected, changes in exercise frequency do not appear to have a notable impact on sleep quality. These findings suggest that other factors not captured in this analysis might play a more substantial role in determining sleep quality."
   ]
  },
  {
   "cell_type": "markdown",
   "metadata": {},
   "source": [
    "### Chi-squared Test"
   ]
  },
  {
   "cell_type": "markdown",
   "metadata": {},
   "source": [
    "First, construct contigency table between `Exercise Days/Week` and `Sleep Quality`"
   ]
  },
  {
   "cell_type": "code",
   "execution_count": 17,
   "metadata": {
    "tags": [
     "remove_cell"
    ]
   },
   "outputs": [
    {
     "data": {
      "text/html": [
       "<div>\n",
       "<style scoped>\n",
       "    .dataframe tbody tr th:only-of-type {\n",
       "        vertical-align: middle;\n",
       "    }\n",
       "\n",
       "    .dataframe tbody tr th {\n",
       "        vertical-align: top;\n",
       "    }\n",
       "\n",
       "    .dataframe thead th {\n",
       "        text-align: right;\n",
       "    }\n",
       "</style>\n",
       "<table border=\"1\" class=\"dataframe\">\n",
       "  <thead>\n",
       "    <tr style=\"text-align: right;\">\n",
       "      <th>Sleep Quality</th>\n",
       "      <th>3.0</th>\n",
       "      <th>4.0</th>\n",
       "      <th>5.0</th>\n",
       "      <th>6.0</th>\n",
       "      <th>7.0</th>\n",
       "      <th>8.0</th>\n",
       "      <th>9.0</th>\n",
       "    </tr>\n",
       "    <tr>\n",
       "      <th>Exercise Days/Week</th>\n",
       "      <th></th>\n",
       "      <th></th>\n",
       "      <th></th>\n",
       "      <th></th>\n",
       "      <th></th>\n",
       "      <th></th>\n",
       "      <th></th>\n",
       "    </tr>\n",
       "  </thead>\n",
       "  <tbody>\n",
       "    <tr>\n",
       "      <th>0 Days</th>\n",
       "      <td>6</td>\n",
       "      <td>11</td>\n",
       "      <td>5</td>\n",
       "      <td>31</td>\n",
       "      <td>6</td>\n",
       "      <td>0</td>\n",
       "      <td>32</td>\n",
       "    </tr>\n",
       "    <tr>\n",
       "      <th>1-2 Days</th>\n",
       "      <td>20</td>\n",
       "      <td>20</td>\n",
       "      <td>8</td>\n",
       "      <td>42</td>\n",
       "      <td>45</td>\n",
       "      <td>71</td>\n",
       "      <td>0</td>\n",
       "    </tr>\n",
       "    <tr>\n",
       "      <th>3-4 Days</th>\n",
       "      <td>7</td>\n",
       "      <td>13</td>\n",
       "      <td>2</td>\n",
       "      <td>32</td>\n",
       "      <td>39</td>\n",
       "      <td>38</td>\n",
       "      <td>39</td>\n",
       "    </tr>\n",
       "    <tr>\n",
       "      <th>5+ Days</th>\n",
       "      <td>8</td>\n",
       "      <td>5</td>\n",
       "      <td>1</td>\n",
       "      <td>0</td>\n",
       "      <td>1</td>\n",
       "      <td>0</td>\n",
       "      <td>0</td>\n",
       "    </tr>\n",
       "  </tbody>\n",
       "</table>\n",
       "</div>"
      ],
      "text/plain": [
       "Sleep Quality       3.0  4.0  5.0  6.0  7.0  8.0  9.0\n",
       "Exercise Days/Week                                   \n",
       "0 Days                6   11    5   31    6    0   32\n",
       "1-2 Days             20   20    8   42   45   71    0\n",
       "3-4 Days              7   13    2   32   39   38   39\n",
       "5+ Days               8    5    1    0    1    0    0"
      ]
     },
     "execution_count": 17,
     "metadata": {},
     "output_type": "execute_result"
    }
   ],
   "source": [
    "contingency_table = pd.crosstab(df['Exercise Days/Week'], df['Sleep Quality'])\n",
    "contingency_table"
   ]
  },
  {
   "cell_type": "markdown",
   "metadata": {},
   "source": [
    "After that, the Chi-squared test could be conducted with `scipy` library"
   ]
  },
  {
   "cell_type": "code",
   "execution_count": 18,
   "metadata": {},
   "outputs": [
    {
     "name": "stdout",
     "output_type": "stream",
     "text": [
      "Chi2 Stat: 177.97745172391032\n",
      "P Value: 2.411246515176397e-28\n",
      "Degrees of Freedom: 18\n"
     ]
    }
   ],
   "source": [
    "from scipy.stats import chi2_contingency\n",
    "\n",
    "# Perform the Chi-squared test\n",
    "chi2_stat, p_val, dof, ex = chi2_contingency(contingency_table)\n",
    "\n",
    "# Print the results\n",
    "print(f\"Chi2 Stat: {chi2_stat}\")\n",
    "print(f\"P Value: {p_val}\")\n",
    "print(f\"Degrees of Freedom: {dof}\")"
   ]
  },
  {
   "cell_type": "markdown",
   "metadata": {},
   "source": [
    "1. **Chi-Squared Statistic (Chi2 Stat):**\n",
    "   The calculated Chi-square statistic is approximately 177.98, which is notably higher than the critical value for a chi-square distribution with 18 degrees of freedom at a significance level ($\\alpha$) of 0.05. This considerable difference suggests strong evidence to reject the null hypothesis.\n",
    "\n",
    "2. **P-Value:**\n",
    "   The p-value is approximately 2.41e-28, which is significantly lower than the common alpha level of 0.05. This extremely low p-value indicates that the observed association between exercise frequency and sleep quality is highly unlikely to have occurred by random chance.\n",
    "\n",
    "**Conclusion:**\n",
    "Given the very low p-value and the high Chi-squared statistic, we can reject the null hypothesis. This suggests that there is a statistically significant association between exercise frequency and sleep quality in our dataset. The relationship, as indicated by the Chi-squared statistic, is strong and suggests that exercise frequency does have a significant impact on sleep quality."
   ]
  },
  {
   "cell_type": "markdown",
   "metadata": {},
   "source": [
    "## Hypothesis 4b - Weekly exercise frequency improves Sleep Duration"
   ]
  },
  {
   "cell_type": "markdown",
   "metadata": {},
   "source": [
    "### Spearman Correlation Test"
   ]
  },
  {
   "cell_type": "markdown",
   "metadata": {},
   "source": [
    "**Null Hypothesis ($H_0$)**: The increase of Weekly exercise frequency has no impact on Sleep Quality.\n",
    "\n",
    "**Alternative Hypothesis ($H_1$)**: The increase of Weekly exercise frequency improves on Sleep Quality.\n"
   ]
  },
  {
   "cell_type": "markdown",
   "metadata": {},
   "source": [
    "Since we are testing the positive correlation, `alternative='greater'` is used"
   ]
  },
  {
   "cell_type": "code",
   "execution_count": 19,
   "metadata": {},
   "outputs": [
    {
     "name": "stdout",
     "output_type": "stream",
     "text": [
      "Correlation: -0.0007873104918378794\n",
      "P-value: 0.5068774759866075\n"
     ]
    }
   ],
   "source": [
    "import scipy.stats as stats\n",
    "\n",
    "# Perform Spearman correlation test\n",
    "da = df.dropna(subset=['Exercise Days/Week Ordinal','Calculated Night Sleep Duration'], axis='index')\n",
    "correlation, p_value = stats.spearmanr(da['Exercise Days/Week Ordinal'], da['Calculated Night Sleep Duration'], alternative='greater')\n",
    "\n",
    "print(f'Correlation: {correlation}')\n",
    "print(f'P-value: {p_value}')"
   ]
  },
  {
   "cell_type": "markdown",
   "metadata": {},
   "source": [
    "1. **Correlation Coefficient:**\n",
    "   The correlation coefficient, denoted as \\( r \\), is approximately 0.0102. This value represents a very weak positive relationship between \"Weekly Exercise Frequency\" and \"Calculated Night Sleep Duration.\" In practical terms, it implies that as weekly exercise frequency increases, there is a very slight tendency for night sleep duration to increase, but the strength of this relationship is negligible.\n",
    "\n",
    "2. **Statistical Significance:**\n",
    "   The p-value associated with the correlation coefficient is approximately 0.4117. This p-value is much higher than the conventional significance level of 0.05. Consequently, it indicates that the observed correlation between weekly exercise frequency and night sleep duration is not statistically significant. This suggests that the observed relationship is likely to be a random occurrence.\n",
    "\n",
    "**Conclusion:**\n",
    "In summary, the data does not reveal a statistically significant relationship between weekly exercise frequency and night sleep duration. The correlation is very weak and not statistically significant, indicating that changes in weekly exercise frequency do not appear to have a notable impact on night sleep duration. Other factors not captured in this analysis may play a more substantial role in determining sleep duration."
   ]
  },
  {
   "cell_type": "markdown",
   "metadata": {},
   "source": [
    "### ANOVA Test"
   ]
  },
  {
   "cell_type": "code",
   "execution_count": 20,
   "metadata": {},
   "outputs": [
    {
     "name": "stdout",
     "output_type": "stream",
     "text": [
      "F-statistic: 0.06330108942658033\n",
      "P-value: 0.9791771457421672\n"
     ]
    }
   ],
   "source": [
    "import scipy.stats as stats\n",
    "\n",
    "# Create a DataFrame\n",
    "da = df.dropna(subset=['Exercise Days/Week','Calculated Night Sleep Duration'], axis='index')\n",
    "\n",
    "# Perform one-way ANOVA\n",
    "groups = da[\"Exercise Days/Week\"].unique()\n",
    "anova_results = []\n",
    "\n",
    "for group in groups:\n",
    "    group_data = da[da[\"Exercise Days/Week\"] == group][\"Calculated Night Sleep Duration\"]\n",
    "    anova_results.append(group_data)\n",
    "\n",
    "\n",
    "# Perform the ANOVA\n",
    "f_statistic, p_value = stats.f_oneway(*anova_results)\n",
    "print(f\"F-statistic: {f_statistic}\")\n",
    "print(f\"P-value: {p_value}\")"
   ]
  },
  {
   "cell_type": "markdown",
   "metadata": {},
   "source": [
    "1. **F-statistic:**\n",
    "   The F-statistic of approximately 0.0633 indicates that there is very little variation between the group means in the context of sleep duration across exercise frequency groups.\n",
    "\n",
    "2. **P-value:**\n",
    "   With a p-value of approximately 0.9792, which is much higher than the commonly selected significance level of 0.05, we do not find evidence to conclude that the one-way ANOVA is statistically significant.\n",
    "\n",
    "**Conclusion:**\n",
    "We cannot infer that there are statistically significant differences in sleep duration among the exercise frequency groups. In practical terms, this suggests that exercise frequency does not have a statistically significant impact on sleep duration in this dataset. The high p-value indicates that any observed differences in sleep duration across exercise frequency groups are likely due to random chance rather than a true effect. Further analysis may be necessary to explore other factors that could influence sleep duration."
   ]
  },
  {
   "cell_type": "markdown",
   "metadata": {},
   "source": [
    "## Hypothesis 5 - Increased Nap Time decreases Night Sleep duration"
   ]
  },
  {
   "cell_type": "markdown",
   "metadata": {},
   "source": [
    "### Spearman Correlation Test"
   ]
  },
  {
   "cell_type": "markdown",
   "metadata": {},
   "source": [
    "**Null Hypothesis ($H_0$)**: The increase of Nap time has no impact on Sleep Quality.\n",
    "\n",
    "**Alternative Hypothesis ($H_1$)**: The increase of Nap time shortens on Sleep Quality.\n"
   ]
  },
  {
   "cell_type": "code",
   "execution_count": 21,
   "metadata": {
    "tags": [
     "remove_cell"
    ]
   },
   "outputs": [],
   "source": [
    "nap_duration_mapping = {\n",
    "    \"No Nap\": 0,\n",
    "    \"<30 Minutes\": 15,\n",
    "    \"60-90 Minutes\": 75,\n",
    "    \"30-60 Minutes\": 45,\n",
    "    \">90 Minutes\": 90,\n",
    "}\n",
    "\n",
    "df[\"Nap Duration Ordinal\"] = df[\"Nap Duration\"].map(nap_duration_mapping)"
   ]
  },
  {
   "cell_type": "code",
   "execution_count": 22,
   "metadata": {},
   "outputs": [
    {
     "name": "stdout",
     "output_type": "stream",
     "text": [
      "Correlation: 0.04228201956735934\n",
      "P-value: 0.8228509437934408\n"
     ]
    }
   ],
   "source": [
    "import scipy.stats as stats\n",
    "\n",
    "# Perform Spearman correlation test\n",
    "da = df.dropna(subset=['Nap Duration Ordinal','Calculated Night Sleep Duration'], axis='index')\n",
    "\n",
    "correlation, p_value = stats.spearmanr(da['Nap Duration Ordinal'], da['Calculated Night Sleep Duration'], alternative='less')\n",
    "\n",
    "print(f'Correlation: {correlation}')\n",
    "print(f'P-value: {p_value}')"
   ]
  },
  {
   "cell_type": "markdown",
   "metadata": {},
   "source": [
    "* **Correlation Coefficient:**\n",
    "  The correlation coefficient is approximately 0.042, indicating a very weak positive relationship between nap duration and calculated night sleep duration. This suggests that as nap duration increases, there is a slight tendency for night sleep duration to increase, but the relationship is not strong.\n",
    "\n",
    "* **P-value:**\n",
    "  The p-value is approximately 0.823, which is well above the conventional threshold of 0.05 for statistical significance. This means that the results do not provide enough evidence to reject the null hypothesis at the 5% significance level.\n",
    "\n",
    "**Conclusion:**\n",
    "Based on the results of the Spearman correlation test, there is not enough evidence to conclude that an increase in nap duration has a significant impact on calculated night sleep duration. While there is a very weak positive correlation, it is not statistically significant, and therefore, the null hypothesis cannot be rejected. It is important to note that this does not necessarily mean there is no relationship at all, but rather that the test did not detect a strong enough relationship in the "
   ]
  },
  {
   "cell_type": "markdown",
   "metadata": {},
   "source": [
    "### Kendall's Tau"
   ]
  },
  {
   "cell_type": "code",
   "execution_count": 23,
   "metadata": {},
   "outputs": [
    {
     "name": "stdout",
     "output_type": "stream",
     "text": [
      "Correlation: 0.033\n",
      "P-value: 0.8287279351719994\n"
     ]
    }
   ],
   "source": [
    "import scipy.stats as stats\n",
    "\n",
    "correlation, p_value = stats.kendalltau(\n",
    "    da[\"Nap Duration Ordinal\"].to_numpy().astype(float),\n",
    "    da[\"Calculated Night Sleep Duration\"].to_numpy(),\n",
    "    alternative=\"less\",\n",
    ")\n",
    "\n",
    "print(f\"Correlation: {correlation:.3f}\")\n",
    "print(f\"P-value: {p_value}\")"
   ]
  },
  {
   "cell_type": "markdown",
   "metadata": {},
   "source": [
    "* **Correlation Coefficient:** The value is 0.033, which indicates a very weak positive correlation between nap duration and calculated night sleep duration. This suggests that as nap duration increases, there is a slight tendency for night sleep duration to increase, but this tendency is not strong.\n",
    "\n",
    "* **P-value:** The p-value is approximately 0.829, which is well above the conventional alpha level of 0.05 used for determining statistical significance. This means that the positive correlation observed is not statistically significant.\n",
    "\n",
    "**Conclusion:**\n",
    "In conclusion, the analysis does not support the alternative hypothesis that increased nap duration has a significant impact on increasing night sleep duration. The weak correlation and high p-value suggest that any observed relationship is likely due to random chance. However, given the weak correlation, it is possible that a larger sample size or further studies could reveal more about the nature of this relationship."
   ]
  },
  {
   "cell_type": "markdown",
   "metadata": {},
   "source": [
    "# Conclusion"
   ]
  },
  {
   "cell_type": "markdown",
   "metadata": {},
   "source": [
    "At a significance level of 0.05, our analysis reveals the following noteworthy associations between various factors and sleep quality:\n",
    "\n",
    "* **Sleep Disturbance:** We find that an increase in sleep disturbances is linked to a notable deterioration in sleep quality. This suggests that individuals experiencing more sleep disruptions tend to report lower sleep quality, indicating the detrimental impact of such disturbances on overall restorative sleep.\n",
    "\n",
    "* **Age Group and Sleep Duration:** Our statistical analysis does not reveal a significant correlation between age group and sleep duration. The weak correlation observed suggests that age may not be a strong predictor of sleep duration, and other factors may play a more substantial role.\n",
    "\n",
    "* **Sleep Onset Time:** Our analysis indicates that there is no significant relationship between sleep onset time and sleep quality. The weak correlation and high p-value suggest that the speed at which an individual falls asleep does not have a substantial impact on sleep quality in this dataset.\n",
    "\n",
    "* **Exercise Weekly Frequency:** Our findings do not provide sufficient statistical evidence to support the notion that increasing exercise frequency significantly enhances sleep quality. Additionally, there is no significant correlation between exercise frequency and night sleep duration, indicating that exercise frequency may not have a notable impact on sleep patterns.\n",
    "\n",
    "* **Nap Duration:** Our examination does not reveal a significant relationship between the length of naps and the overall duration of nighttime sleep. The weak correlation and high p-value suggest that napping habits do not have a substantial impact on the length of nocturnal sleep."
   ]
  },
  {
   "cell_type": "markdown",
   "metadata": {},
   "source": []
  }
 ],
 "metadata": {
  "kernelspec": {
   "display_name": "tensorflow_gpu",
   "language": "python",
   "name": "python3"
  },
  "language_info": {
   "codemirror_mode": {
    "name": "ipython",
    "version": 3
   },
   "file_extension": ".py",
   "mimetype": "text/x-python",
   "name": "python",
   "nbconvert_exporter": "python",
   "pygments_lexer": "ipython3",
   "version": "3.8.19"
  }
 },
 "nbformat": 4,
 "nbformat_minor": 2
}
